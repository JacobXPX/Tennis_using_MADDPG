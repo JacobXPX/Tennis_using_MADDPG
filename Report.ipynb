{
 "cells": [
  {
   "cell_type": "markdown",
   "metadata": {},
   "source": [
    "# Collaboration and Competition\n",
    "\n",
    "---\n",
    "\n",
    "You are welcome to use this coding environment to train your agent for the project.  Follow the instructions below to get started!\n",
    "\n",
    "### 1. Start the Environment\n",
    "The environment is already saved in the Workspace and can be accessed at the file path provided below. "
   ]
  },
  {
   "cell_type": "code",
   "execution_count": 1,
   "metadata": {},
   "outputs": [
    {
     "name": "stderr",
     "output_type": "stream",
     "text": [
      "INFO:unityagents:\n",
      "'Academy' started successfully!\n",
      "Unity Academy name: Academy\n",
      "        Number of Brains: 1\n",
      "        Number of External Brains : 1\n",
      "        Lesson number : 0\n",
      "        Reset Parameters :\n",
      "\t\t\n",
      "Unity brain name: TennisBrain\n",
      "        Number of Visual Observations (per agent): 0\n",
      "        Vector Observation space type: continuous\n",
      "        Vector Observation space size (per agent): 8\n",
      "        Number of stacked Vector Observation: 3\n",
      "        Vector Action space type: continuous\n",
      "        Vector Action space size (per agent): 2\n",
      "        Vector Action descriptions: , \n"
     ]
    }
   ],
   "source": [
    "from unityagents import UnityEnvironment\n",
    "import random\n",
    "import numpy as np\n",
    "import torch\n",
    "from collections import deque\n",
    "import matplotlib.pyplot as plt\n",
    "%matplotlib inline\n",
    "from datetime import datetime\n",
    "def MSG(txt):\n",
    "    print('\\n',datetime.now().strftime(\"%Y-%m-%d %H:%M:%S:\"), str(txt))\n",
    "from maddpg_agents import DDPGAgent, MADDPG\n",
    "import sys\n",
    "env = UnityEnvironment(file_name=\"data/Tennis_Linux/Tennis.x86_64\")"
   ]
  },
  {
   "cell_type": "markdown",
   "metadata": {},
   "source": [
    "Environments contain **_brains_** which are responsible for deciding the actions of their associated agents. Here we check for the first brain available, and set it as the default brain we will be controlling from Python."
   ]
  },
  {
   "cell_type": "code",
   "execution_count": 2,
   "metadata": {},
   "outputs": [],
   "source": [
    "# get the default brain\n",
    "brain_name = env.brain_names[0]\n",
    "brain = env.brains[brain_name]"
   ]
  },
  {
   "cell_type": "markdown",
   "metadata": {},
   "source": [
    "### 2. Examine the State and Action Spaces\n",
    "\n",
    "Run the code cell below to print some information about the environment."
   ]
  },
  {
   "cell_type": "code",
   "execution_count": 3,
   "metadata": {},
   "outputs": [
    {
     "name": "stdout",
     "output_type": "stream",
     "text": [
      "Number of agents: 2\n",
      "Size of each action: 2\n",
      "There are 2 agents. Each observes a state with length: 24\n",
      "The state for the first agent looks like: [ 0.          0.          0.          0.          0.          0.\n",
      "  0.          0.          0.          0.          0.          0.\n",
      "  0.          0.          0.          0.         -6.65278625 -1.5\n",
      " -0.          0.          6.83172083  6.         -0.          0.        ]\n"
     ]
    }
   ],
   "source": [
    "# reset the environment\n",
    "env_info = env.reset(train_mode=True)[brain_name]\n",
    "\n",
    "# number of agents \n",
    "num_agents = len(env_info.agents)\n",
    "print('Number of agents:', num_agents)\n",
    "\n",
    "# size of each action\n",
    "action_size = brain.vector_action_space_size\n",
    "print('Size of each action:', action_size)\n",
    "\n",
    "# examine the state space \n",
    "states = env_info.vector_observations\n",
    "obs_size = states.shape[1]\n",
    "state_size = obs_size * states.shape[0]\n",
    "print('There are {} agents. Each observes a state with length: {}'.format(states.shape[0], obs_size))\n",
    "print('The state for the first agent looks like:', states[0])"
   ]
  },
  {
   "cell_type": "markdown",
   "metadata": {},
   "source": [
    "### 3. Modified DDPG\n",
    "\n",
    "[MADDPG](https://arxiv.org/abs/1706.02275) is an actor-critic, model-free deep reinforcement learning methods for multi-agent domains.\n",
    "![MADDPG](src/img/maddpg.png)\n",
    "\n",
    "Details of our algorithm:\n",
    "\n",
    "1. 2-hidden layer (relu+bn) + tanh outlayer Actor Netwok\n",
    "2. 2-hidden layer (relu+bn) + Linear outlayer  Critic Netwok\n",
    "3. independent Critic/Actor Network and OuNoise process (with noise reduce factor) for each agent\n",
    "\n",
    "Some hyper-parameters:\n",
    "\n",
    "Hyper-Parameter | Value | Description\n",
    "----------|-----------|--------------\n",
    "BUFFER_SIZE | 2e6  | replay buffer size\n",
    "BATCH_SIZE | 1024        | minibatch size\n",
    "GAMMA | 0.99           | discount factor\n",
    "TAU | 1e-3              | for soft update of target parameters\n",
    "LR_ACTOR | 1e-3         | learning rate of the actor\n",
    "LR_CRITIC | 1e-3        | learning rate of the critic\n",
    "WEIGHT_DECAY | 1e-5        | L2 weight decay\n",
    "UPDATE_EVERY | 100       | how often to update the network\n",
    "LEARN_TIMES | 50        | how many times to learn each avtive step\n",
    "NOISE_REDUCE | 0.9997 | reduce factor of noise in action"
   ]
  },
  {
   "cell_type": "code",
   "execution_count": 4,
   "metadata": {},
   "outputs": [
    {
     "name": "stdout",
     "output_type": "stream",
     "text": [
      "\n",
      " 2018-11-15 01:15:05: start!\n",
      "Episode 100\tWinner is agent 0\tAverage Score on 100 Episode: 0.005\n",
      "Episode 200\tWinner is agent 0\tAverage Score on 100 Episode: 0.005\n",
      "Episode 300\tWinner is agent 0\tAverage Score on 100 Episode: 0.005\n",
      "Episode 400\tWinner is agent 1\tAverage Score on 100 Episode: 0.010\n",
      "Episode 500\tWinner is agent 1\tAverage Score on 100 Episode: 0.022\n",
      "Episode 600\tWinner is agent 1\tAverage Score on 100 Episode: 0.029\n",
      "Episode 700\tWinner is agent 1\tAverage Score on 100 Episode: 0.037\n",
      "Episode 800\tWinner is agent 1\tAverage Score on 100 Episode: 0.039\n",
      "Episode 900\tWinner is agent 1\tAverage Score on 100 Episode: 0.055\n",
      "Episode 1000\tWinner is agent 1\tAverage Score on 100 Episode: 0.087\n",
      "Episode 1100\tWinner is agent 1\tAverage Score on 100 Episode: 0.112\n",
      "Episode 1200\tWinner is agent 0\tAverage Score on 100 Episode: 0.157\n",
      "Episode 1300\tWinner is agent 0\tAverage Score on 100 Episode: 0.195\n",
      "Episode 1400\tWinner is agent 0\tAverage Score on 100 Episode: 0.239\n",
      "Episode 1500\tWinner is agent 0\tAverage Score on 100 Episode: 0.345\n",
      "Episode 1600\tWinner is agent 0\tAverage Score on 100 Episode: 0.228\n",
      "Episode 1700\tWinner is agent 0\tAverage Score on 100 Episode: 0.270\n",
      "Episode 1800\tWinner is agent 0\tAverage Score on 100 Episode: 0.231\n",
      "Episode 1900\tWinner is agent 0\tAverage Score on 100 Episode: 0.398\n",
      "Episode 2000\tWinner is agent 0\tAverage Score on 100 Episode: 0.552\n",
      "Episode 2100\tWinner is agent 1\tAverage Score on 100 Episode: 0.508\n",
      "Episode 2200\tWinner is agent 0\tAverage Score on 100 Episode: 0.433\n",
      "Episode 2300\tWinner is agent 1\tAverage Score on 100 Episode: 0.556\n",
      "Episode 2400\tWinner is agent 1\tAverage Score on 100 Episode: 0.544\n",
      "Episode 2500\tWinner is agent 1\tAverage Score on 100 Episode: 0.477\n",
      "Episode 2600\tWinner is agent 1\tAverage Score on 100 Episode: 0.664\n",
      "Episode 2700\tWinner is agent 1\tAverage Score on 100 Episode: 0.616\n",
      "Episode 2800\tWinner is agent 1\tAverage Score on 100 Episode: 1.074\n",
      "Episode 2900\tWinner is agent 1\tAverage Score on 100 Episode: 0.682\n",
      "Episode 3000\tWinner is agent 0\tAverage Score on 100 Episode: 0.891\n",
      "Episode 3100\tWinner is agent 0\tAverage Score on 100 Episode: 0.800\n",
      "Episode 3200\tWinner is agent 0\tAverage Score on 100 Episode: 0.976\n",
      "Episode 3300\tWinner is agent 0\tAverage Score on 100 Episode: 0.588\n",
      "Episode 3400\tWinner is agent 0\tAverage Score on 100 Episode: 0.640\n",
      "Episode 3500\tWinner is agent 0\tAverage Score on 100 Episode: 1.059\n",
      "\n",
      " 2018-11-15 07:02:43: end!\n"
     ]
    },
    {
     "data": {
      "image/png": "[encoded data removed]",
      "text/plain": [
       "<matplotlib.figure.Figure at 0x7fba7484d630>"
      ]
     },
     "metadata": {},
     "output_type": "display_data"
    }
   ],
   "source": [
    "agent_list = [\n",
    "    DDPGAgent(obs_size, state_size, action_size, random_seed = 2018),\n",
    "    DDPGAgent(obs_size, state_size, action_size, random_seed = 2019),\n",
    "]\n",
    "agents = MADDPG(agent_list)\n",
    "\n",
    "def maddpg(env, agents, n_episodes=3500, max_t=2000, print_every=100):\n",
    "    MSG('start!')\n",
    "    brain_name = env.brain_names[0]\n",
    "    scores_deque = deque(maxlen=print_every)\n",
    "    scores_idx_deque = deque(maxlen=print_every)\n",
    "    scores = []\n",
    "    best_score = 0.\n",
    "    for i_episode in range(1, n_episodes+1):\n",
    "        env_info = env.reset(train_mode=True)[brain_name]\n",
    "        obs_tuple = env_info.vector_observations\n",
    "        agents.reset()\n",
    "        agent_scores = np.zeros(len(agents.maddpg_agent))\n",
    "        for t in range(max_t):\n",
    "            action_tuple = agents.act(obs_tuple)                    # select an action (for each agent)\n",
    "            env_info = env.step(action_tuple)[brain_name]           # send all actions to tne environment\n",
    "            next_obs_tuple = env_info.vector_observations           # get next state (for each agent)\n",
    "            reward_tuple = env_info.rewards                         # get reward (for each agent)\n",
    "            done_tuple = env_info.local_done                        # see if episode finished\n",
    "            agent_scores += reward_tuple\n",
    "            agents.step(obs_tuple, action_tuple, reward_tuple, next_obs_tuple, done_tuple)\n",
    "            obs_tuple = next_obs_tuple                              # roll over states to next time step\n",
    "            if np.any(done_tuple):                                  # exit loop if episode finished\n",
    "                break\n",
    "        score, idx = np.max(agent_scores), np.argmax(agent_scores)\n",
    "        scores_deque.append(score)\n",
    "        scores_idx_deque.append(idx)\n",
    "        scores.append(score)\n",
    "        if score > best_score:\n",
    "            torch.save(agents.maddpg_agent[idx].actor_local.state_dict(), 'model/checkpoint_actor.pth')\n",
    "            torch.save(agents.maddpg_agent[idx].critic_local.state_dict(), 'model/checkpoint_critic.pth')\n",
    "            best_score = score\n",
    "        if i_episode % (print_every) == 0:\n",
    "            print('\\rEpisode {}\\tWinner is agent {}\\tAverage Score on 100 Episode: {:.3f}'.format(i_episode, int(round(np.mean(scores_idx_deque))), np.mean(scores_deque)))\n",
    "    MSG('end!') \n",
    "    return scores\n",
    "\n",
    "\n",
    "scores = maddpg(env, agents)\n",
    "\n",
    "# plot\n",
    "fig = plt.figure()\n",
    "ax = fig.add_subplot(111)\n",
    "plt.plot(np.arange(1, len(scores)+1), scores)\n",
    "plt.ylabel('Score')\n",
    "plt.xlabel('Episode #')\n",
    "plt.show()"
   ]
  },
  {
   "cell_type": "markdown",
   "metadata": {},
   "source": [
    "### 4. Have a look at well-trained agent"
   ]
  },
  {
   "cell_type": "code",
   "execution_count": 1,
   "metadata": {},
   "outputs": [
    {
     "name": "stderr",
     "output_type": "stream",
     "text": [
      "INFO:unityagents:\n",
      "'Academy' started successfully!\n",
      "Unity Academy name: Academy\n",
      "        Number of Brains: 1\n",
      "        Number of External Brains : 1\n",
      "        Lesson number : 0\n",
      "        Reset Parameters :\n",
      "\t\t\n",
      "Unity brain name: TennisBrain\n",
      "        Number of Visual Observations (per agent): 0\n",
      "        Vector Observation space type: continuous\n",
      "        Vector Observation space size (per agent): 8\n",
      "        Number of stacked Vector Observation: 3\n",
      "        Vector Action space type: continuous\n",
      "        Vector Action space size (per agent): 2\n",
      "        Vector Action descriptions: , \n"
     ]
    }
   ],
   "source": [
    "from unityagents import UnityEnvironment\n",
    "import random\n",
    "import numpy as np\n",
    "import torch\n",
    "from collections import deque\n",
    "from datetime import datetime\n",
    "from maddpg_agents import DDPGAgent, MADDPG\n",
    "env = UnityEnvironment(file_name='data/Tennis_Linux/Tennis.x86_64')\n",
    "# get the default brain\n",
    "brain_name = env.brain_names[0]\n",
    "brain = env.brains[brain_name]\n",
    "# reset the environment\n",
    "env_info = env.reset(train_mode=True)[brain_name]\n",
    "# size of each action\n",
    "action_size = brain.vector_action_space_size\n",
    "# examine the state space \n",
    "states = env_info.vector_observations\n",
    "obs_size = states.shape[1]\n",
    "state_size = obs_size * states.shape[0]"
   ]
  },
  {
   "cell_type": "code",
   "execution_count": 2,
   "metadata": {},
   "outputs": [],
   "source": [
    "agent_list = [\n",
    "    DDPGAgent(obs_size, state_size, action_size, random_seed = 2018),\n",
    "    DDPGAgent(obs_size, state_size, action_size, random_seed = 2019),\n",
    "]\n",
    "agents = MADDPG(agent_list)\n",
    "# load trained model\n",
    "agents.maddpg_agent[0].actor_local.load_state_dict(torch.load('model/checkpoint_actor.pth'))\n",
    "agents.maddpg_agent[1].actor_local.load_state_dict(torch.load('model/checkpoint_actor.pth'))\n",
    "state = env.reset()\n",
    "env_info = env.reset(train_mode=False)[brain_name]\n",
    "obs_tuple = env_info.vector_observations\n",
    "for t in range(2000):\n",
    "    action_tuple = agents.act(obs_tuple)\n",
    "    env_info = env.step(action_tuple)[brain_name]\n",
    "    next_obs_tuple = env_info.vector_observations\n",
    "    done_tuple = env_info.local_done\n",
    "    obs_tuple = next_obs_tuple\n",
    "    if np.any(done_tuple):\n",
    "        break\n",
    "\n",
    "env.close()"
   ]
  },
  {
   "cell_type": "markdown",
   "metadata": {},
   "source": [
    "### Next Step\n",
    "\n",
    "To improve the agent's performance:\n",
    "\n",
    "1. During my experiments, I found that when I do `torch.nn.utils.clip_grad_norm_()` by 1 or 0.5, the performance is the same, so I think I can investigate in the gradient scales and do experiments on using L1 norm or `torch.nn.utils.clip_grad_value_()`.\n",
    "\n",
    "2. I will make the network large to see how it will affect the performance."
   ]
  },
  {
   "cell_type": "code",
   "execution_count": null,
   "metadata": {},
   "outputs": [],
   "source": []
  }
 ],
 "metadata": {
  "kernelspec": {
   "display_name": "Python 3",
   "language": "python",
   "name": "python3"
  },
  "language_info": {
   "codemirror_mode": {
    "name": "ipython",
    "version": 3
   },
   "file_extension": ".py",
   "mimetype": "text/x-python",
   "name": "python",
   "nbconvert_exporter": "python",
   "pygments_lexer": "ipython3",
   "version": "3.6.4"
  }
 },
 "nbformat": 4,
 "nbformat_minor": 2
}
